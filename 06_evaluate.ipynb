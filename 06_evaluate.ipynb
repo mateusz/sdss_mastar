{
 "cells": [
  {
   "cell_type": "code",
   "execution_count": null,
   "metadata": {},
   "outputs": [],
   "source": []
  },
  {
   "cell_type": "code",
   "execution_count": 1,
   "metadata": {},
   "outputs": [],
   "source": [
    "import mlflow\n",
    "import stars\n",
    "import numpy as np"
   ]
  },
  {
   "cell_type": "code",
   "execution_count": 4,
   "metadata": {},
   "outputs": [],
   "source": [
    "sl = stars.StarLoader('data/mastarall-v3_1_1-v1_7_7.fits', 'data/mastar-combspec-v3_1_1-v1_7_7-lsfpercent99.5.fits')"
   ]
  },
  {
   "cell_type": "code",
   "execution_count": 9,
   "metadata": {},
   "outputs": [
    {
     "data": {
      "text/plain": [
       "inputs: \n",
       "  [Tensor('float64', (-1, 4563))]\n",
       "outputs: \n",
       "  [Tensor('float64', (-1,))]"
      ]
     },
     "execution_count": 9,
     "metadata": {},
     "output_type": "execute_result"
    }
   ],
   "source": [
    "mlflow.set_tracking_uri('sqlite:///mlflow.db')\n",
    "model = mlflow.pyfunc.load_model('runs:/4c8065f0f5f24d7fac89fa8a7396e7d7/model')\n",
    "model._model_meta._signature"
   ]
  },
  {
   "cell_type": "code",
   "execution_count": 24,
   "metadata": {},
   "outputs": [
    {
     "data": {
      "text/plain": [
       "array([ 6152.09614656,  6149.32418423,  5920.10254416, ...,  5419.46210476,\n",
       "        6720.70822127,  8539.98172067])"
      ]
     },
     "execution_count": 24,
     "metadata": {},
     "output_type": "execute_result"
    }
   ],
   "source": [
    "badt = sl.stars[sl.stars['INPUT_TEFF']<=0]\n",
    "flux_corr = np.array(badt['FLUX_CORR']).astype('float64')\n",
    "model.predict(flux_corr)"
   ]
  }
 ],
 "metadata": {
  "interpreter": {
   "hash": "7e66e1a829a2a82f0cb6aeacf2ea5f44cd8944c8a18096b63b985eee8a9e9eb6"
  },
  "kernelspec": {
   "display_name": "Python 3.10.4 ('mastar')",
   "language": "python",
   "name": "python3"
  },
  "language_info": {
   "codemirror_mode": {
    "name": "ipython",
    "version": 3
   },
   "file_extension": ".py",
   "mimetype": "text/x-python",
   "name": "python",
   "nbconvert_exporter": "python",
   "pygments_lexer": "ipython3",
   "version": "3.10.4"
  },
  "orig_nbformat": 4
 },
 "nbformat": 4,
 "nbformat_minor": 2
}
