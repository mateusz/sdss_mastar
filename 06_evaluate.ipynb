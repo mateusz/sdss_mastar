{
 "cells": [
  {
   "cell_type": "markdown",
   "metadata": {},
   "source": [
    "In this notebook we will load a model we've created earlier, and evaluate its performance against external model - essentially scoring our model against the other one.\n",
    "\n",
    "We will use the \"params\" dataset which contains predictions from multiple external models. We will score our model against TEFF_MED column, which is a median of all other predictions."
   ]
  },
  {
   "cell_type": "code",
   "execution_count": 1,
   "metadata": {},
   "outputs": [],
   "source": [
    "import mlflow\n",
    "import stars\n",
    "import numpy as np\n",
    "import pandas as pd\n",
    "from sklearn.metrics import mean_squared_error\n",
    "import matplotlib.pyplot as plt"
   ]
  },
  {
   "cell_type": "code",
   "execution_count": 2,
   "metadata": {},
   "outputs": [],
   "source": [
    "sl = stars.StarLoader()"
   ]
  },
  {
   "cell_type": "markdown",
   "metadata": {},
   "source": [
    "If you have ran the 05 notebook, your model will be stored in the MLFlow's local storage (`mlruns` directory).\n",
    "\n",
    "You can investigate this model by running `mlflow ui` and visiting [local MLFlow UI](http://localhost:5000). Therein you can also find the link to the stored model for use below."
   ]
  },
  {
   "cell_type": "code",
   "execution_count": 3,
   "metadata": {},
   "outputs": [
    {
     "data": {
      "text/plain": [
       "inputs: \n",
       "  [Tensor('float64', (-1, 4563))]\n",
       "outputs: \n",
       "  [Tensor('float64', (-1,))]"
      ]
     },
     "execution_count": 3,
     "metadata": {},
     "output_type": "execute_result"
    }
   ],
   "source": [
    "stored_model_path = './mlruns/1/be8132aa780d47d59fd94d4dacda8ce8/artifacts/model'\n",
    "model = mlflow.pyfunc.load_model(stored_model_path)\n",
    "model._model_meta._signature"
   ]
  },
  {
   "cell_type": "code",
   "execution_count": 7,
   "metadata": {},
   "outputs": [
    {
     "name": "stdout",
     "output_type": "stream",
     "text": [
      "Stars evaluated only by external algorithm: 19601\n"
     ]
    }
   ],
   "source": [
    "badt = sl.stars[(sl.stars['INPUT_TEFF']<=0) & (sl.stars['TEFF_MED']>0)]\n",
    "df_badt = sl.fits_to_pd(badt)\n",
    "\n",
    "print('Stars evaluated only by external algorithm: %d' % len(df_badt))"
   ]
  },
  {
   "cell_type": "code",
   "execution_count": 6,
   "metadata": {},
   "outputs": [
    {
     "name": "stdout",
     "output_type": "stream",
     "text": [
      "Stars evaluated only by external algorithm: 19601\n"
     ]
    },
    {
     "data": {
      "image/png": "[encoded data removed]",
      "text/plain": [
       "<Figure size 432x288 with 1 Axes>"
      ]
     },
     "metadata": {
      "needs_background": "light"
     },
     "output_type": "display_data"
    },
    {
     "name": "stdout",
     "output_type": "stream",
     "text": [
      "MSE: 3750891.47\n"
     ]
    },
    {
     "data": {
      "image/png": "[encoded data removed]",
      "text/plain": [
       "<Figure size 432x288 with 1 Axes>"
      ]
     },
     "metadata": {
      "needs_background": "light"
     },
     "output_type": "display_data"
    }
   ],
   "source": [
    "results = model.predict(df_badt.drop(['mangaid', 'teff', 'teff_ext'], axis=1))\n",
    "\n",
    "target = df_badt['teff_ext']\n",
    "plt.hist(target, bins=30, color='orange')\n",
    "plt.title('Distribution of TEFF_MED')\n",
    "plt.show()\n",
    "\n",
    "mse = mean_squared_error(target, results)\n",
    "print('MSE: %.2f' % mse)\n",
    "\n",
    "residuals = np.array(target).astype('float') - results\n",
    "plt.title('Residuals')\n",
    "plt.hist(residuals, bins=30)\n",
    "plt.show()"
   ]
  },
  {
   "cell_type": "markdown",
   "metadata": {},
   "source": [
    "This result is pretty bad, when compared to our previous test MSE. Looking at the distribution of TEFF_MED we can see it contains values that are outside of the range seen by our fitting procedure! There is no way our model can handle these properly, and I think it would be valid in this case to have it respond with an \"uknownn\" result."
   ]
  },
  {
   "cell_type": "code",
   "execution_count": 8,
   "metadata": {},
   "outputs": [
    {
     "name": "stdout",
     "output_type": "stream",
     "text": [
      "Model range: (2970.2K - 8975.9K)\n",
      "Stars evaluated only by external algorithm, within our model's range: 19601\n",
      "Stars outside of range: 824\n"
     ]
    }
   ],
   "source": [
    "goodt = sl.stars[sl.stars['INPUT_TEFF']>0]['INPUT_TEFF']\n",
    "max_seen = goodt.max()\n",
    "min_seen = goodt.min()\n",
    "print('Model range: (%.1fK - %.1fK)' %(min_seen, max_seen))\n",
    "\n",
    "badt_lim = sl.stars[(sl.stars['INPUT_TEFF']<=0) & (sl.stars['TEFF_MED']>=min_seen) & (sl.stars['TEFF_MED']<=max_seen)]\n",
    "df_badt_lim = sl.fits_to_pd(badt_lim)\n",
    "df_badt_lim.to_parquet('data/badt_lim.parquet')\n",
    "\n",
    "print('Stars evaluated only by external algorithm, within our model\\'s range: %d' % len(df_badt))\n",
    "print('Stars outside of range: %d' % (len(df_badt)-len(df_badt_lim)))\n"
   ]
  },
  {
   "cell_type": "markdown",
   "metadata": {},
   "source": [
    "Let's drop the 824 out-of-range stars from the evaluation dataset, and retry."
   ]
  },
  {
   "cell_type": "code",
   "execution_count": 11,
   "metadata": {},
   "outputs": [
    {
     "data": {
      "image/png": "[encoded data removed]",
      "text/plain": [
       "<Figure size 432x288 with 1 Axes>"
      ]
     },
     "metadata": {
      "needs_background": "light"
     },
     "output_type": "display_data"
    },
    {
     "name": "stdout",
     "output_type": "stream",
     "text": [
      "MSE: 33418.23\n"
     ]
    },
    {
     "data": {
      "image/png": "[encoded data removed]",
      "text/plain": [
       "<Figure size 432x288 with 1 Axes>"
      ]
     },
     "metadata": {
      "needs_background": "light"
     },
     "output_type": "display_data"
    }
   ],
   "source": [
    "\n",
    "results_ext = model.predict(df_badt_lim.drop(['mangaid', 'teff', 'teff_ext'], axis=1))\n",
    "\n",
    "target_ext = df_badt_lim['teff_ext']\n",
    "plt.hist(target_ext, bins=30, color='orange')\n",
    "plt.title('Distribution of TEFF_MED')\n",
    "plt.show()\n",
    "\n",
    "mse = mean_squared_error(target_ext, results_ext)\n",
    "print('MSE: %.2f' % mse)\n",
    "\n",
    "residuals = np.array(target_ext).astype('float') - results_ext\n",
    "plt.title('Residuals')\n",
    "plt.hist(residuals, bins=30)\n",
    "plt.show()\n"
   ]
  },
  {
   "cell_type": "markdown",
   "metadata": {},
   "source": [
    "This results in a lower MSE. We have to note thought this isn't an expression of improved absolute performance of our model. We are calculating MSE against external models, not true values, and these external modesl are possibly using similar modeling techniques as we are.\n",
    "\n",
    "All we can conclude is our model has a comparable performance to these external models."
   ]
  }
 ],
 "metadata": {
  "interpreter": {
   "hash": "7e66e1a829a2a82f0cb6aeacf2ea5f44cd8944c8a18096b63b985eee8a9e9eb6"
  },
  "kernelspec": {
   "display_name": "Python 3.10.4 ('mastar')",
   "language": "python",
   "name": "python3"
  },
  "language_info": {
   "codemirror_mode": {
    "name": "ipython",
    "version": 3
   },
   "file_extension": ".py",
   "mimetype": "text/x-python",
   "name": "python",
   "nbconvert_exporter": "python",
   "pygments_lexer": "ipython3",
   "version": "3.10.4"
  },
  "orig_nbformat": 4
 },
 "nbformat": 4,
 "nbformat_minor": 2
}
