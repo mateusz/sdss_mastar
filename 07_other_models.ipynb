{
 "cells": [
  {
   "cell_type": "code",
   "execution_count": null,
   "metadata": {},
   "outputs": [],
   "source": []
  },
  {
   "cell_type": "markdown",
   "metadata": {},
   "source": [
    "Reading literature I have found some other methods that could perhaps work in this situation. It's an interesting dataset, because our input dataset has more features (flux columns) than training examples (labeled stars). I'd like to see performance of the following methods:\n",
    "\n",
    "* try principal component regression (this is an unsupervised alternative to lasso that reduces input dimensionality)\n",
    "* feature engineering: perform a polynomial regression on spectrogram to summarise flux samples to handful of values. This may work really badly, because it will wipe out all absorption lines\n",
    "* feature engineering: convert spectrum to XYZ. This may work really badly because it will probably wipe out some ultraviolet and infrared information\n",
    "* feature engineering: help the model focus on absorption lines. Perhaps we could calculate second derivative, some thought would be required to cater for expected redshift\n",
    "\n",
    "Let's dig in.\n",
    "  "
   ]
  },
  {
   "cell_type": "code",
   "execution_count": 11,
   "metadata": {},
   "outputs": [
    {
     "data": {
      "text/plain": [
       "<Experiment: artifact_location='file:///Users/x/Sites/mastar/mlruns/2', experiment_id='2', lifecycle_stage='active', name='/mastar/07_other_models', tags={}>"
      ]
     },
     "execution_count": 11,
     "metadata": {},
     "output_type": "execute_result"
    }
   ],
   "source": [
    "import numpy as np\n",
    "import pandas as pd\n",
    "from sklearn.linear_model import Lasso\n",
    "from sklearn.model_selection import train_test_split\n",
    "from sklearn.pipeline import make_pipeline\n",
    "from sklearn.preprocessing import Normalizer\n",
    "from sklearn.decomposition import PCA\n",
    "from sklearn.linear_model import LinearRegression\n",
    "from sklearn.metrics import mean_squared_error\n",
    "import mlflow\n",
    "import mlflow.sklearn\n",
    "import matplotlib.pyplot as plt\n",
    "from IPython.display import HTML\n",
    "import stars\n",
    "\n",
    "mlflow.sklearn.autolog()\n",
    "mlflow.set_experiment(\"/mastar/07_other_models\")"
   ]
  },
  {
   "cell_type": "code",
   "execution_count": 26,
   "metadata": {},
   "outputs": [],
   "source": [
    "df_goodt = pd.read_parquet('data/goodt.parquet')"
   ]
  },
  {
   "cell_type": "code",
   "execution_count": 27,
   "metadata": {},
   "outputs": [],
   "source": [
    "seed = 1\n",
    "training_features_all, testing_features_all, training_target, testing_target = train_test_split(df_goodt, df_goodt['teff'], random_state=seed)\n",
    "\n",
    "mangaid_training = training_features_all['mangaid']\n",
    "mangaid_testing = testing_features_all['mangaid']\n",
    "training_features = np.array(training_features_all.drop(['mangaid', 'teff', 'teff_ext'], axis=1))\n",
    "testing_features = np.array(testing_features_all.drop(['mangaid', 'teff', 'teff_ext'], axis=1))"
   ]
  },
  {
   "cell_type": "code",
   "execution_count": 34,
   "metadata": {},
   "outputs": [
    {
     "name": "stderr",
     "output_type": "stream",
     "text": [
      "2022/06/15 17:25:19 INFO mlflow.utils.autologging_utils: Created MLflow autologging run with ID '72d450261e8d4c6f9240c014e21811e2', which will track hyperparameters, performance metrics, model artifacts, and lineage information for the current sklearn workflow\n"
     ]
    },
    {
     "name": "stdout",
     "output_type": "stream",
     "text": [
      "[Pipeline] ........ (step 1 of 3) Processing normalizer, total=   0.2s\n",
      "[Pipeline] ............... (step 2 of 3) Processing pca, total=   1.1s\n",
      "[Pipeline] .. (step 3 of 3) Processing linearregression, total=   0.0s\n",
      "MSE: 63219.59\n"
     ]
    }
   ],
   "source": [
    "pca = PCA(n_components=50)\n",
    "lin = LinearRegression()\n",
    "pipeline = make_pipeline(\n",
    "    Normalizer(norm=\"l2\" ),\n",
    "    pca,\n",
    "    lin,\n",
    "    verbose=True\n",
    ")\n",
    "pipeline.fit(training_features, training_target)\n",
    "\n",
    "results = pipeline.predict(testing_features)\n",
    "mse = mean_squared_error(testing_target, results)\n",
    "print('MSE: %.2f' % mse)"
   ]
  },
  {
   "cell_type": "markdown",
   "metadata": {},
   "source": [
    "This result is comparable to the Lasso. We can improve MSE by using more dimensions, if we wished so, but I wanted to see performance on comparable dimensionality reduction."
   ]
  },
  {
   "cell_type": "code",
   "execution_count": 32,
   "metadata": {},
   "outputs": [
    {
     "name": "stdout",
     "output_type": "stream",
     "text": [
      "External dataset MSE: 30396.76\n"
     ]
    }
   ],
   "source": [
    "df_badt_lim = pd.read_parquet('data/badt_lim.parquet')\n",
    "target_ext = df_badt_lim['teff_ext']\n",
    "\n",
    "results_ext = pipeline.predict(np.array(df_badt_lim.drop(['mangaid', 'teff', 'teff_ext'], axis=1)))\n",
    "mse = mean_squared_error(target_ext, results_ext)\n",
    "print('External dataset MSE: %.2f' % mse)"
   ]
  },
  {
   "cell_type": "markdown",
   "metadata": {},
   "source": [
    "This is also similar to Lasso. We can conclude here that Lasso gives results similar to PCA with linear regression. PCA results however are harder to reason about: it would be harder to figure out which parts of the spectrum are important to the linear model due to PCA transformation mangling the features as an intermediate step."
   ]
  }
 ],
 "metadata": {
  "interpreter": {
   "hash": "7e66e1a829a2a82f0cb6aeacf2ea5f44cd8944c8a18096b63b985eee8a9e9eb6"
  },
  "kernelspec": {
   "display_name": "Python 3.10.4 ('mastar')",
   "language": "python",
   "name": "python3"
  },
  "language_info": {
   "codemirror_mode": {
    "name": "ipython",
    "version": 3
   },
   "file_extension": ".py",
   "mimetype": "text/x-python",
   "name": "python",
   "nbconvert_exporter": "python",
   "pygments_lexer": "ipython3",
   "version": "3.10.4"
  },
  "orig_nbformat": 4
 },
 "nbformat": 4,
 "nbformat_minor": 2
}
