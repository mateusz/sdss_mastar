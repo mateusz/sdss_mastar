{
 "cells": [
  {
   "cell_type": "code",
   "execution_count": null,
   "metadata": {},
   "outputs": [],
   "source": [
    "from astropy.io import fits\n",
    "from astropy.table import Table\n",
    "import pandas as pd\n",
    "import matplotlib.pyplot as plt\n",
    "import numpy as np"
   ]
  },
  {
   "cell_type": "code",
   "execution_count": null,
   "metadata": {},
   "outputs": [],
   "source": [
    "# Data from https://data.sdss.org/sas/dr17/manga/spectro/mastar/v3_1_1/v1_7_7/\n",
    "# Data model description https://data.sdss.org/datamodel/files/MANGA_SPECTRO_MASTAR/DRPVER/MPROCVER/mastarall-DRPVER-MPROCVER.html\n",
    "hdulist = fits.open('data/mastarall-v3_1_1-v1_7_7.fits')\n",
    "hdulist.info()\n",
    "\n",
    "dat = Table.read('data/mastarall-v3_1_1-v1_7_7.fits', format='fits', hdu=1)\n",
    "print('Total stars: %d' % len(dat))\n",
    "\n",
    "names = [name for name in dat.colnames if len(dat[name].shape) <= 1]\n",
    "goodstars = dat[names].to_pandas()\n",
    "goodstars.plot.scatter(x='RA', y='DEC', marker=\"+\", linewidths=0.5, figsize=(15,7))\n",
    "plt.show()\n",
    "\n",
    "print(\"Vaues in PHOTOCAT:\")\n",
    "print(goodstars['PHOTOCAT'].value_counts())\n",
    "\n",
    "print(\"Data points with valid T value from catalogue:\")\n",
    "goodstars['INPUT_TEFF'].describe()\n",
    "tstars = goodstars[goodstars['INPUT_TEFF']>0.0]\n",
    "print(tstars['INPUT_TEFF'].describe())\n",
    "\n",
    "print(\"Histogram of good-T stars:\")\n",
    "tstars['INPUT_TEFF'].hist()\n",
    "plt.show()\n",
    "\n",
    "print(\"Random good-T star:\")\n",
    "goodstars.sample(n=5)"
   ]
  },
  {
   "cell_type": "markdown",
   "metadata": {},
   "source": [
    "One can look up the actual image via e.g. http://skyserver.sdss.org/dr17/VisualTools/explore/summary?ra=48.873343&dec=-8.442834 (need RA and DEC).\n",
    "\n",
    "Caution is required interpreting the spectra, as resolution differs per star and even per visit https://www.sdss.org/dr17/mastar/mastar-spectra/. SDSS team provides \"unified resolution\" spectra (with resolutions adjusted to match). Best one to use then should be the \"combined\" dataset (multiple visits combined to increase quality) and the unified 99.5th set (which is the largest). I think we don't really care about the shape of these LSF curves, as long as they are comparable.\n",
    "\n",
    "Alternatively, we can use raw data and feed our algorithm with resolution data too. This could give better results because I think normalisation removes detail."
   ]
  },
  {
   "cell_type": "code",
   "execution_count": null,
   "metadata": {},
   "outputs": [],
   "source": [
    "# mastarall-gaiaedr3-extcorr-simbad-ps1-v3_1_1-v1_7_7-v1.fits contains some additional columns taken from gaia catalogue, such as parallax\n",
    "# Data def is here https://data.sdss.org/datamodel/files/MANGA_SPECTRO_MASTAR/DRPVER/MPROCVER/vac/crossmatch/VER/mastarall-gaiaedr3-extcorr-simbad-ps1-DRPVER-MPROCVER-VER.html\n",
    "hdulist = fits.open('data/mastarall-gaiaedr3-extcorr-simbad-ps1-v3_1_1-v1_7_7-v1.fits')\n",
    "hdulist.info()\n",
    "dat = Table.read('data/mastarall-gaiaedr3-extcorr-simbad-ps1-v3_1_1-v1_7_7-v1.fits', format='fits', hdu=1)\n",
    "dat[[0,1,2]]"
   ]
  },
  {
   "cell_type": "code",
   "execution_count": null,
   "metadata": {},
   "outputs": [],
   "source": [
    "# mastar-goodstars-v3_1_1-v1_7_7-params-v1.fits contains params derived by different researchers\n",
    "# Data def is here https://data.sdss.org/datamodel/files/MANGA_SPECTRO_MASTAR/DRPVER/MPROCVER/vac/parameters/VER/mastar-goodstars-DRPVER-MPROCVER-params-VER.html\n",
    "hdulist = fits.open('data/mastar-goodstars-v3_1_1-v1_7_7-params-v1.fits')\n",
    "hdulist.info()\n",
    "dat = Table.read('data/mastar-goodstars-v3_1_1-v1_7_7-params-v1.fits', format='fits', hdu=1)\n",
    "dat[[0,1,2]]"
   ]
  },
  {
   "cell_type": "code",
   "execution_count": null,
   "metadata": {},
   "outputs": [],
   "source": [
    "# As mentioned before, I think using normalised spectra makes most sense, unless we expect our method to be able to deal with resolution variability.\n",
    "# Therefore first try using normalised mastar-combspec-v3_1_1-v1_7_7-lsfpercent99.5.fits\n",
    "# Data def is here https://data.sdss.org/datamodel/files/MANGA_SPECTRO_MASTAR/DRPVER/MPROCVER/mastar-combspec-DRPVER-MPROCVER-lsfpercentPP.P.html\n",
    "hdulist = fits.open('data/mastar-combspec-v3_1_1-v1_7_7-lsfpercent99.5.fits')\n",
    "hdulist.info()\n",
    "spectra = Table.read('data/mastar-combspec-v3_1_1-v1_7_7-lsfpercent99.5.fits', format='fits', hdu=1)\n",
    "spectra[[0,1,2]]"
   ]
  },
  {
   "cell_type": "markdown",
   "metadata": {},
   "source": [
    "Spectral data consists of: WAVE (frequency value - this is the same for all entries, an x-axis value), FLUX (amount of light reaching the detector, IVAR is the inverse squared, this is the y value), DISP (resolution-related, also PREDISP), MASK (for data goodness?).\n",
    "\n",
    "When using LFS normalised data, we can ignore DISP (they have all been normalised to the same value).\n",
    "\n",
    "IVAR is somewhat [described here](https://www.sdss.org/dr14/manga/manga-tutorials/manga-faq/#WhydoyououtputIVAR(inversevariance)insteadoferrors?). Infinite flux is represented by 0.\n",
    "\n",
    "We can join these spectrums with our main data table via MANGAID."
   ]
  },
  {
   "cell_type": "code",
   "execution_count": null,
   "metadata": {},
   "outputs": [],
   "source": [
    "for s in np.random.choice(spectra, size=10):\n",
    "\tplt.plot(s['FLUX'])"
   ]
  },
  {
   "cell_type": "markdown",
   "metadata": {},
   "source": [
    "This looks good, although:\n",
    "\n",
    "* some datapoints are negative\n",
    "* there is some significant dips in the flux values - are these the absorption lines?\n",
    "\n",
    "Some more info from [MaNGA IDL tutorial](https://www.sdss.org/dr13/manga/manga-tutorials/how-do-i-look-at-my-data/idl/):\n",
    "\n",
    "* When mask does not equal 0, this indicates a bad pixel. Ivar stands for the inverse variance.\n",
    "* whenever ivar is 0, this also indicates a bad pixel.\n",
    "\n",
    "Hopefully these values will help us remove the bad values. So let's put the algorithm togheter:\n",
    "\n",
    "* zero the values where IVAR is zero or MASK is non-zero\n",
    "* feed the resulting spectral data (FLUX) into the algorithm\n",
    "* target the TEFF_INPUT label via join on MANGAID\n",
    "* initially use a data split on goodstars containing a valid TEFF taken from upstream catalogues (caution is needed, because multiple catalogues are used). There is about 4,000 of these stars.\n",
    "* we can then further test the algorithm on the extra data provided in the \"params\" set by comparing how it fared compared to other algorithms (24,290 stars in total)\n",
    "\n",
    "Alternatively, if 4,000 stars is not enough for training, we can pick one of the values produced by other algorithms (the less-ML) ones, and we can still judge results against other algorithms.\n"
   ]
  }
 ],
 "metadata": {
  "interpreter": {
   "hash": "7e66e1a829a2a82f0cb6aeacf2ea5f44cd8944c8a18096b63b985eee8a9e9eb6"
  },
  "kernelspec": {
   "display_name": "Python 3.10.4 ('mastar')",
   "language": "python",
   "name": "python3"
  },
  "language_info": {
   "codemirror_mode": {
    "name": "ipython",
    "version": 3
   },
   "file_extension": ".py",
   "mimetype": "text/x-python",
   "name": "python",
   "nbconvert_exporter": "python",
   "pygments_lexer": "ipython3",
   "version": "3.10.4"
  }
 },
 "nbformat": 4,
 "nbformat_minor": 2
}
